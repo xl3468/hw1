{
  "nbformat": 4,
  "nbformat_minor": 0,
  "metadata": {
    "colab": {
      "provenance": [],
      "authorship_tag": "ABX9TyMU8BmU2viNvLfed0JQEOTh",
      "include_colab_link": true
    },
    "kernelspec": {
      "name": "python3",
      "display_name": "Python 3"
    },
    "language_info": {
      "name": "python"
    }
  },
  "cells": [
    {
      "cell_type": "markdown",
      "metadata": {
        "id": "view-in-github",
        "colab_type": "text"
      },
      "source": [
        "<a href=\"https://colab.research.google.com/github/xl3468/hw1/blob/main/GetBondPrice_E.ipynb\" target=\"_parent\"><img src=\"https://colab.research.google.com/assets/colab-badge.svg\" alt=\"Open In Colab\"/></a>"
      ]
    },
    {
      "cell_type": "code",
      "source": [
        "def getBondPrice_E(face, couponRate, m, yc):\n",
        "  bondPrice = 0\n",
        "  coupon = couponRate * face\n",
        "\n",
        "  for i, rate in enumerate(yc, start=1):\n",
        "   if i == m:\n",
        "     cf = coupon + face\n",
        "   else:\n",
        "     cf = coupon\n",
        "\n",
        "   pv_factor = 1/((1+rate)**i)\n",
        "   bondPrice += cf * pv_factor\n",
        "\n",
        "\n",
        "  return bondPrice\n",
        "\n",
        "\n",
        "#Test value\n",
        "yc = [.010,.015,.020,.025,.030]\n",
        "face = 2000000\n",
        "couponRate = .04\n",
        "m = 5\n",
        "\n",
        "price = getBondPrice_E(face, couponRate, m, yc)\n",
        "print(f\"Bond Price: $ {price:,.2f}\")\n"
      ],
      "metadata": {
        "colab": {
          "base_uri": "https://localhost:8080/"
        },
        "id": "-iBNcVU7bkr3",
        "outputId": "a5d14c6d-69b2-494f-897e-343defedfa58"
      },
      "execution_count": 62,
      "outputs": [
        {
          "output_type": "stream",
          "name": "stdout",
          "text": [
            "Bond Price: $ 2,098,948.97\n"
          ]
        }
      ]
    }
  ]
}