{
  "nbformat": 4,
  "nbformat_minor": 0,
  "metadata": {
    "colab": {
      "provenance": [],
      "authorship_tag": "ABX9TyN+53qgAbJPMksH+OOwWBLx",
      "include_colab_link": true
    },
    "kernelspec": {
      "name": "python3",
      "display_name": "Python 3"
    },
    "language_info": {
      "name": "python"
    }
  },
  "cells": [
    {
      "cell_type": "markdown",
      "metadata": {
        "id": "view-in-github",
        "colab_type": "text"
      },
      "source": [
        "<a href=\"https://colab.research.google.com/github/xl3468/hw1/blob/main/getBondDuration.ipynb\" target=\"_parent\"><img src=\"https://colab.research.google.com/assets/colab-badge.svg\" alt=\"Open In Colab\"/></a>"
      ]
    },
    {
      "cell_type": "code",
      "source": [
        "def getBondDuration(y,face,couponRate,m,ppy=1):\n",
        "  cf = couponRate * face / ppy\n",
        "  totalPVCF = 0\n",
        "  totalWeightedPVCF = 0\n",
        "\n",
        "  for i in range (1,m*ppy+1):\n",
        "    df = 1 / (1+y/ppy) ** i\n",
        "    if i == m*ppy:\n",
        "      pvcf= (cf+face) * df\n",
        "    else:\n",
        "      pvcf= cf * df\n",
        "    totalPVCF += pvcf\n",
        "    totalWeightedPVCF +=i* pvcf\n",
        "\n",
        "  bondDuration = totalWeightedPVCF / totalPVCF\n",
        "  return(bondDuration)\n",
        "\n",
        "#Test values\n",
        "y = 0.03\n",
        "face = 2000000\n",
        "couponRate = 0.04\n",
        "m = 10\n",
        "ppy = 1\n",
        "\n",
        "getBondDuration(y , face , couponRate , m , ppy)"
      ],
      "metadata": {
        "colab": {
          "base_uri": "https://localhost:8080/"
        },
        "id": "CITyl1dX2FSA",
        "outputId": "99f47d24-be98-4424-9186-d2327bf03845"
      },
      "execution_count": null,
      "outputs": [
        {
          "output_type": "execute_result",
          "data": {
            "text/plain": [
              "8.508690304459575"
            ]
          },
          "metadata": {},
          "execution_count": 14
        }
      ]
    }
  ]
}