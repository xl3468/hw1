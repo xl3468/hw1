{
  "nbformat": 4,
  "nbformat_minor": 0,
  "metadata": {
    "colab": {
      "provenance": [],
      "include_colab_link": true
    },
    "kernelspec": {
      "name": "python3",
      "display_name": "Python 3"
    },
    "language_info": {
      "name": "python"
    }
  },
  "cells": [
    {
      "cell_type": "markdown",
      "metadata": {
        "id": "view-in-github",
        "colab_type": "text"
      },
      "source": [
        "<a href=\"https://colab.research.google.com/github/xl3468/hw1/blob/main/getBondPrice.ipynb\" target=\"_parent\"><img src=\"https://colab.research.google.com/assets/colab-badge.svg\" alt=\"Open In Colab\"/></a>"
      ]
    },
    {
      "cell_type": "code",
      "execution_count": 30,
      "metadata": {
        "colab": {
          "base_uri": "https://localhost:8080/"
        },
        "id": "SMC-bUUN9-gj",
        "outputId": "2242b321-bf52-44de-d1ba-e6ebda841513"
      },
      "outputs": [
        {
          "output_type": "stream",
          "name": "stdout",
          "text": [
            "1 0.9852216748768474\n",
            "2 0.9706617486471404\n",
            "3 0.9563169937410252\n",
            "4 0.9421842302867245\n",
            "5 0.92826032540564\n",
            "6 0.914542192517872\n",
            "7 0.9010267906580022\n",
            "8 0.8877111238009875\n",
            "9 0.8745922401980173\n",
            "10 0.8616672317221846\n",
            "11 0.8489332332238273\n",
            "12 0.8363874218953965\n",
            "13 0.824027016645711\n",
            "14 0.8118492774834593\n",
            "15 0.7998515049098122\n",
            "16 0.7880310393200121\n",
            "17 0.7763852604138051\n",
            "18 0.7649115866145864\n",
            "19 0.7536074744971295\n",
            "20 0.742470418223773\n"
          ]
        },
        {
          "output_type": "execute_result",
          "data": {
            "text/plain": [
              "2171686.3878508243"
            ]
          },
          "metadata": {},
          "execution_count": 30
        }
      ],
      "source": [
        "#!/usr/bin/env python3\n",
        "# -*- coding: utf-8 -*-\n",
        "\"\"\"\n",
        "Created on Tue Jun 11 21:18:56 2024\n",
        "\n",
        "@author: tleitch\n",
        "\"\"\"\n",
        "\n",
        "def getBondPrice(y, face, couponRate, m, ppy=1):\n",
        "    df0 = 1/(1+y/ppy)\n",
        "    dcf = 0\n",
        "    df = 1\n",
        "    cpn=couponRate*face/ppy\n",
        "\n",
        "    for i in range(1,m*ppy+1):\n",
        "      df *= df0\n",
        "      dcf+=cpn*df\n",
        "      print(i,df)\n",
        "\n",
        "    bondPrice=dcf+face*df\n",
        "    return(bondPrice)\n",
        "\n",
        "\n",
        "# Test values\n",
        "y = 0.03\n",
        "face = 2000000\n",
        "couponRate = 0.04\n",
        "m = 10\n",
        "ppy = 1\n",
        "ppy = 2\n",
        "#<no ppy value passed>\n",
        "\n",
        "getBondPrice(y, face, couponRate, m, ppy)"
      ]
    },
    {
      "cell_type": "code",
      "source": [],
      "metadata": {
        "id": "3r64nGdKywIr"
      },
      "execution_count": null,
      "outputs": []
    }
  ]
}