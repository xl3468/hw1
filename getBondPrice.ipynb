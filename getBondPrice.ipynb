{
  "nbformat": 4,
  "nbformat_minor": 0,
  "metadata": {
    "colab": {
      "provenance": [],
      "include_colab_link": true
    },
    "kernelspec": {
      "name": "python3",
      "display_name": "Python 3"
    },
    "language_info": {
      "name": "python"
    }
  },
  "cells": [
    {
      "cell_type": "markdown",
      "metadata": {
        "id": "view-in-github",
        "colab_type": "text"
      },
      "source": [
        "<a href=\"https://colab.research.google.com/github/xl3468/hw1/blob/main/getBondPrice.ipynb\" target=\"_parent\"><img src=\"https://colab.research.google.com/assets/colab-badge.svg\" alt=\"Open In Colab\"/></a>"
      ]
    },
    {
      "cell_type": "code",
      "source": [
        "#!/usr/bin/env python3\n",
        "# -*- coding: utf-8 -*-\n",
        "\"\"\"\n",
        "Created on Tue Jun 11 21:18:56 2024\n",
        "\n",
        "@author: tleitch\n",
        "\"\"\"\n",
        "\n",
        "def getBondPrice(y, face, couponRate, m, ppy=1):\n",
        "    df0 = 1/(1+y/ppy)\n",
        "    dcf = 0\n",
        "    df = 1\n",
        "    cpn=couponRate*face/ppy\n",
        "\n",
        "    for i in range(1,m*ppy+1):\n",
        "      df *= df0\n",
        "      dcf+=cpn*df\n",
        "      print(i,df)\n",
        "\n",
        "    bondPrice=dcf+face*df\n",
        "    return(bondPrice)\n",
        "\n",
        "# Test values\n",
        "\n",
        "y = 0.03\n",
        "face = 2000000\n",
        "couponRate = 0.04\n",
        "m = 10\n",
        "ppy = 1\n",
        "ppy = 2\n",
        "#\n",
        "\n",
        "getBondPrice(y, face, couponRate, m)"
      ],
      "metadata": {
        "id": "h6h1W0U1p4nA",
        "outputId": "d91b6e40-e434-4de2-ec95-c97ad461ba8d",
        "colab": {
          "base_uri": "https://localhost:8080/"
        }
      },
      "execution_count": 4,
      "outputs": [
        {
          "output_type": "stream",
          "name": "stdout",
          "text": [
            "1 0.970873786407767\n",
            "2 0.9425959091337544\n",
            "3 0.9151416593531596\n",
            "4 0.888487047915689\n",
            "5 0.8626087843841641\n",
            "6 0.8374842566836544\n",
            "7 0.8130915113433539\n",
            "8 0.7894092343139358\n",
            "9 0.7664167323436271\n",
            "10 0.7440939148967253\n"
          ]
        },
        {
          "output_type": "execute_result",
          "data": {
            "text/plain": [
              "2170604.056735517"
            ]
          },
          "metadata": {},
          "execution_count": 4
        }
      ]
    },
    {
      "cell_type": "code",
      "execution_count": null,
      "metadata": {
        "colab": {
          "base_uri": "https://localhost:8080/"
        },
        "id": "SMC-bUUN9-gj",
        "outputId": "2242b321-bf52-44de-d1ba-e6ebda841513"
      },
      "outputs": [
        {
          "output_type": "stream",
          "name": "stdout",
          "text": [
            "1 0.9852216748768474\n",
            "2 0.9706617486471404\n",
            "3 0.9563169937410252\n",
            "4 0.9421842302867245\n",
            "5 0.92826032540564\n",
            "6 0.914542192517872\n",
            "7 0.9010267906580022\n",
            "8 0.8877111238009875\n",
            "9 0.8745922401980173\n",
            "10 0.8616672317221846\n",
            "11 0.8489332332238273\n",
            "12 0.8363874218953965\n",
            "13 0.824027016645711\n",
            "14 0.8118492774834593\n",
            "15 0.7998515049098122\n",
            "16 0.7880310393200121\n",
            "17 0.7763852604138051\n",
            "18 0.7649115866145864\n",
            "19 0.7536074744971295\n",
            "20 0.742470418223773\n"
          ]
        },
        {
          "output_type": "execute_result",
          "data": {
            "text/plain": [
              "2171686.3878508243"
            ]
          },
          "metadata": {},
          "execution_count": 30
        }
      ],
      "source": [
        "#!/usr/bin/env python3\n",
        "# -*- coding: utf-8 -*-\n",
        "\"\"\"\n",
        "Created on Tue Jun 11 21:18:56 2024\n",
        "\n",
        "@author: tleitch\n",
        "\"\"\"\n",
        "\n",
        "def getBondPrice(y, face, couponRate, m, ppy=1):\n",
        "    df0 = 1/(1+y/ppy)\n",
        "    dcf = 0\n",
        "    df = 1\n",
        "    cpn=couponRate*face/ppy\n",
        "\n",
        "    for i in range(1,m*ppy+1):\n",
        "      df *= df0\n",
        "      dcf+=cpn*df\n",
        "      print(i,df)\n",
        "\n",
        "    bondPrice=dcf+face*df\n",
        "    return(bondPrice)\n",
        "\n",
        "\n",
        "# Test values\n",
        "y = 0.03\n",
        "face = 2000000\n",
        "couponRate = 0.04\n",
        "m = 10\n",
        "ppy = 1\n",
        "ppy = 2\n",
        "#<no ppy value passed>\n",
        "\n",
        "getBondPrice(y, face, couponRate, m, ppy)"
      ]
    },
    {
      "cell_type": "code",
      "source": [
        "\n",
        "def getBondDuration(y,face,couponRate,m,ppy=1):\n",
        "  cf = couponRate * face / ppy\n",
        "  totalPVCF = 0\n",
        "  totalWeightedPVCF = 0\n",
        "\n",
        "  for i in range (1,m*ppy+1):\n",
        "    df = 1 / (1+y/ppy) ** i\n",
        "    if i == m*ppy:\n",
        "      pvcf= (cf+face) * df\n",
        "    else:\n",
        "      pvcf= cf * df\n",
        "    totalPVCF += pvcf\n",
        "    totalWeightedPVCF +=i* pvcf\n",
        "\n",
        "  bondDuration = totalWeightedPVCF / totalPVCF\n",
        "  return(bondDuration)\n",
        "\n",
        "#Test values\n",
        "y = 0.03\n",
        "face = 2000000\n",
        "couponRate = 0.04\n",
        "m = 10\n",
        "ppy = 1\n",
        "\n",
        "getBondDuration(y , face , couponRate , m , ppy)"
      ],
      "metadata": {
        "id": "Sjnv_1CUqmn8",
        "outputId": "e23a4ef6-d83e-4797-fdf3-9b84e6876436",
        "colab": {
          "base_uri": "https://localhost:8080/"
        }
      },
      "execution_count": 5,
      "outputs": [
        {
          "output_type": "execute_result",
          "data": {
            "text/plain": [
              "8.508690304459575"
            ]
          },
          "metadata": {},
          "execution_count": 5
        }
      ]
    },
    {
      "cell_type": "code",
      "source": [
        "\n",
        "def getBondPrice_E(face, couponRate, m, yc):\n",
        "  bondPrice = 0\n",
        "  coupon = couponRate * face\n",
        "\n",
        "  for i, rate in enumerate(yc, start=1):\n",
        "   if i == m:\n",
        "     cf = coupon + face\n",
        "   else:\n",
        "     cf = coupon\n",
        "\n",
        "   pv_factor = 1/((1+rate)**i)\n",
        "   bondPrice += cf * pv_factor\n",
        "\n",
        "\n",
        "  return bondPrice\n",
        "\n",
        "\n",
        "#Test value\n",
        "yc = [.010,.015,.020,.025,.030]\n",
        "face = 2000000\n",
        "couponRate = .04\n",
        "m = 5\n",
        "\n",
        "price = getBondPrice_E(face, couponRate, m, yc)\n",
        "print(f\"Bond Price: $ {price:,.2f}\")\n"
      ],
      "metadata": {
        "id": "7kLCJ9qJqviR",
        "outputId": "c95d6a72-5c8c-4254-ae38-bc092758cccf",
        "colab": {
          "base_uri": "https://localhost:8080/"
        }
      },
      "execution_count": 6,
      "outputs": [
        {
          "output_type": "stream",
          "name": "stdout",
          "text": [
            "Bond Price: $ 2,098,948.97\n"
          ]
        }
      ]
    },
    {
      "cell_type": "code",
      "source": [
        "def getBondPrice_E(face, couponRate, times, yc):\n",
        "  bondPrice = 0\n",
        "  coupon = couponRate * face\n",
        "\n",
        "  for t, rate in zip(times, yc):\n",
        "    if t == times[-1]:\n",
        "      cf = coupon + face\n",
        "    else:\n",
        "      cf = coupon\n",
        "\n",
        "    pv_factor = 1 / ((1 + rate) ** t)\n",
        "    discounted_cf = cf * pv_factor\n",
        "    bondPrice += discounted_cf\n",
        "\n",
        "  return bondPrice\n",
        "\n",
        "\n",
        "# Test Value\n",
        "yc = [0.010, 0.015, 0.020, 0.025, 0.030]\n",
        "times = [1, 1.5, 3, 4, 7]\n",
        "face = 2000000\n",
        "couponRate = 0.04\n",
        "\n",
        "\n",
        "price = getBondPrice_E(face, couponRate, times, yc)\n",
        "\n",
        "print(f\"Bond Price: $ {price:,.2f}\")"
      ],
      "metadata": {
        "id": "hcanZYvWq0Zw",
        "outputId": "c1dd6594-ca64-453a-f024-6258cc215cf0",
        "colab": {
          "base_uri": "https://localhost:8080/"
        }
      },
      "execution_count": 7,
      "outputs": [
        {
          "output_type": "stream",
          "name": "stdout",
          "text": [
            "Bond Price: $ 1,996,533.27\n"
          ]
        }
      ]
    },
    {
      "cell_type": "code",
      "source": [],
      "metadata": {
        "id": "burBNnXMq4Md"
      },
      "execution_count": null,
      "outputs": []
    }
  ]
}