{
  "nbformat": 4,
  "nbformat_minor": 0,
  "metadata": {
    "colab": {
      "provenance": [],
      "authorship_tag": "ABX9TyMpe6gZrIKIssC37UtNNfYj",
      "include_colab_link": true
    },
    "kernelspec": {
      "name": "python3",
      "display_name": "Python 3"
    },
    "language_info": {
      "name": "python"
    }
  },
  "cells": [
    {
      "cell_type": "markdown",
      "metadata": {
        "id": "view-in-github",
        "colab_type": "text"
      },
      "source": [
        "<a href=\"https://colab.research.google.com/github/xl3468/hw1/blob/main/getBondPrice_Z.ipynb\" target=\"_parent\"><img src=\"https://colab.research.google.com/assets/colab-badge.svg\" alt=\"Open In Colab\"/></a>"
      ]
    },
    {
      "cell_type": "code",
      "execution_count": 13,
      "metadata": {
        "colab": {
          "base_uri": "https://localhost:8080/"
        },
        "id": "Vey0ajrom-gJ",
        "outputId": "29d1f307-25c3-4deb-8e37-23dc7cc638a0"
      },
      "outputs": [
        {
          "output_type": "stream",
          "name": "stdout",
          "text": [
            "Bond Price: $ 1,996,533.27\n"
          ]
        }
      ],
      "source": [
        "def getBondPrice_E(face, couponRate, times, yc):\n",
        "  bondPrice = 0\n",
        "  coupon = couponRate * face\n",
        "\n",
        "  for t, rate in zip(times, yc):\n",
        "    if t == times[-1]:\n",
        "      cf = coupon + face\n",
        "    else:\n",
        "      cf = coupon\n",
        "\n",
        "    pv_factor = 1 / ((1 + rate) ** t)\n",
        "    discounted_cf = cf * pv_factor\n",
        "    bondPrice += discounted_cf\n",
        "\n",
        "  return bondPrice\n",
        "\n",
        "\n",
        "# Test Value\n",
        "yc = [0.010, 0.015, 0.020, 0.025, 0.030]\n",
        "times = [1, 1.5, 3, 4, 7]\n",
        "face = 2000000\n",
        "couponRate = 0.04\n",
        "\n",
        "\n",
        "price = getBondPrice_E(face, couponRate, times, yc)\n",
        "\n",
        "print(f\"Bond Price: $ {price:,.2f}\")\n"
      ]
    }
  ]
}